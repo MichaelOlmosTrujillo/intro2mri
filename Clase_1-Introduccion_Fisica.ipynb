{
 "cells": [
  {
   "cell_type": "markdown",
   "metadata": {},
   "source": [
    "# Clase 1: Introducción a los conceptos físicos\n",
    "\n",
    "## Agenda\n",
    " - Leyes de electricidad y magnetismo asociadas a MRI\n",
    "    * Fuerza de Lorentz\n",
    "    * Ley de Biot-Savart\n",
    "    * Ley de Ampere\n",
    "    * Campo magnético debido a un solenoide\n",
    "    * Ley de Faraday\n",
    "    * Ley de Lenz\n",
    "    * Corrientes de Eddy\n",
    " - Noción de Spin\n",
    " - Noción de Magnetización"
   ]
  },
  {
   "cell_type": "markdown",
   "metadata": {},
   "source": [
    "## Fuerza de Lorentz\n",
    "\n",
    "\\begin{equation}\n",
    "\\mathbf F_B = q\\mathbf E + q\\mathbf v \\times\\mathbf B\n",
    "\\end{equation}\n",
    "\n",
    "\\begin{equation}\n",
    "\\mathbf F_B = q\\mathbf v \\times\\mathbf B\n",
    "\\end{equation}\n",
    "\n",
    "\\begin{equation}\n",
    "\\mathbf F_B = I \\mathbf L \\times\\mathbf B\n",
    "\\end{equation}"
   ]
  },
  {
   "cell_type": "markdown",
   "metadata": {},
   "source": [
    "![Alt text](http://www.scielo.org.co/img/revistas/tecn/v15n30/v15n30a12fig1.jpg)"
   ]
  },
  {
   "cell_type": "markdown",
   "metadata": {},
   "source": [
    "## Ley de Biot-Savart\n",
    "\n",
    "\\begin{equation}\n",
    "d\\mathbf B = \\frac{\\mu_0}{4\\pi} \\frac{Id\\mathbf s \\times\\hat r}{r^2}\n",
    "\\end{equation}"
   ]
  },
  {
   "cell_type": "markdown",
   "metadata": {},
   "source": [
    "![Alt text](http://www.larapedia.com/elettrotecnica_Campi_e_circuiti_magnetici/Campo_magnetico_clip_image003.gif)"
   ]
  },
  {
   "cell_type": "markdown",
   "metadata": {},
   "source": [
    "## Solenoide ideal\n",
    "\n",
    "![Alt text](http://www.rinconsolidario.org/ciencias/biblioteca/asignaturas/fisicabach/ProblemasResueltosFisica2/Course5/Unit_05/Eval/004.JPG)"
   ]
  },
  {
   "cell_type": "markdown",
   "metadata": {},
   "source": [
    "## Solenoide NO ideal\n",
    "\n",
    "![Alt text](http://docencia.udea.edu.co/regionalizacion/irs-404/imagenes/capitulo9/image305.jpg)"
   ]
  },
  {
   "cell_type": "markdown",
   "metadata": {},
   "source": [
    "## Ley de inducción de Faraday\n",
    "\n",
    "![Alt text](http://docencia.udea.edu.co/regionalizacion/irs-404/imagenes/capitulo10/image052.jpg)"
   ]
  },
  {
   "cell_type": "code",
   "execution_count": null,
   "metadata": {
    "collapsed": true
   },
   "outputs": [],
   "source": []
  }
 ],
 "metadata": {
  "kernelspec": {
   "display_name": "Python 3",
   "language": "python",
   "name": "python3"
  },
  "language_info": {
   "codemirror_mode": {
    "name": "ipython",
    "version": 3
   },
   "file_extension": ".py",
   "mimetype": "text/x-python",
   "name": "python",
   "nbconvert_exporter": "python",
   "pygments_lexer": "ipython3",
   "version": "3.6.1"
  }
 },
 "nbformat": 4,
 "nbformat_minor": 2
}
